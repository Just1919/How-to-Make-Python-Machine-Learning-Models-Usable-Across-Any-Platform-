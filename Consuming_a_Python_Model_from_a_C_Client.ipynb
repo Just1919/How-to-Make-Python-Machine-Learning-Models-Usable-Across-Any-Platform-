{
  "cells": [
    {
      "cell_type": "markdown",
      "metadata": {
        "id": "3ndNCgYfbyaw"
      },
      "source": [
        "## **Consuming a Python Model from a C# Client**\n",
        "\n",
        "---\n",
        "As we discussed earlier in this article, integrating machine learning models developed in Python into applications written in other programming languages, such as C#, is not a straightforward task due to the inability to directly call Python functions from C#. However, one effective approach is to wrap the Python model in a web service and expose its prediction methods (e.g., predict or predict_proba) via a REST API. This allows applications written in different languages to interact seamlessly with the Python-based model.\n",
        "\n",
        "In this section, we will focus on training a model using the well-known Titanic dataset, which is available on Kaggle here. Once the model is trained, we will demonstrate how to consume it in a C# application by setting up a web service using Flask, a popular Python framework designed for creating web applications and services.\n",
        "\n",
        "To proceed, ensure Flask is installed on your system. Then, create a Python file named app.py and insert the following code. This code will set up a Python-based web service listening on port 5000, providing an easy way to call the Titanic survival prediction model from any external application, including one developed in C#:\n"
      ]
    },
    {
      "cell_type": "code",
      "execution_count": 3,
      "metadata": {
        "id": "NT0is0ZQbvOG"
      },
      "outputs": [],
      "source": [
        "import pandas as pd\n",
        "from sklearn.model_selection import train_test_split\n",
        "from sklearn.linear_model import LogisticRegression\n",
        "from sklearn.model_selection import GridSearchCV\n",
        "import pickle\n",
        "from sklearn.model_selection import cross_val_score\n",
        "from sklearn.metrics import ConfusionMatrixDisplay as cmd\n",
        "from flask import Flask, request\n",
        ""
      ]
    },
    {
      "cell_type": "code",
      "execution_count": 4,
      "metadata": {
        "id": "68F5UWmIdmbM"
      },
      "outputs": [],
      "source": [
        "df=pd.read_csv('/content/drive/MyDrive/FORMATION ML/titanic.csv')"
      ]
    },
    {
      "cell_type": "code",
      "execution_count": 5,
      "metadata": {
        "colab": {
          "base_uri": "https://localhost:8080/",
          "height": 241
        },
        "id": "38KMZFnbd1fB",
        "outputId": "ea9fa4d3-af52-425f-b20a-925af9f28279"
      },
      "outputs": [
        {
          "output_type": "execute_result",
          "data": {
            "text/plain": [
              "   PassengerId  Survived  Pclass  \\\n",
              "0            1         0       3   \n",
              "1            2         1       1   \n",
              "2            3         1       3   \n",
              "3            4         1       1   \n",
              "4            5         0       3   \n",
              "\n",
              "                                                Name     Sex   Age  SibSp  \\\n",
              "0                            Braund, Mr. Owen Harris    male  22.0      1   \n",
              "1  Cumings, Mrs. John Bradley (Florence Briggs Th...  female  38.0      1   \n",
              "2                             Heikkinen, Miss. Laina  female  26.0      0   \n",
              "3       Futrelle, Mrs. Jacques Heath (Lily May Peel)  female  35.0      1   \n",
              "4                           Allen, Mr. William Henry    male  35.0      0   \n",
              "\n",
              "   Parch            Ticket     Fare Cabin Embarked  \n",
              "0      0         A/5 21171   7.2500   NaN        S  \n",
              "1      0          PC 17599  71.2833   C85        C  \n",
              "2      0  STON/O2. 3101282   7.9250   NaN        S  \n",
              "3      0            113803  53.1000  C123        S  \n",
              "4      0            373450   8.0500   NaN        S  "
            ],
            "text/html": [
              "\n",
              "  <div id=\"df-49698262-6ccc-4c6b-ada9-8aafd06561fb\" class=\"colab-df-container\">\n",
              "    <div>\n",
              "<style scoped>\n",
              "    .dataframe tbody tr th:only-of-type {\n",
              "        vertical-align: middle;\n",
              "    }\n",
              "\n",
              "    .dataframe tbody tr th {\n",
              "        vertical-align: top;\n",
              "    }\n",
              "\n",
              "    .dataframe thead th {\n",
              "        text-align: right;\n",
              "    }\n",
              "</style>\n",
              "<table border=\"1\" class=\"dataframe\">\n",
              "  <thead>\n",
              "    <tr style=\"text-align: right;\">\n",
              "      <th></th>\n",
              "      <th>PassengerId</th>\n",
              "      <th>Survived</th>\n",
              "      <th>Pclass</th>\n",
              "      <th>Name</th>\n",
              "      <th>Sex</th>\n",
              "      <th>Age</th>\n",
              "      <th>SibSp</th>\n",
              "      <th>Parch</th>\n",
              "      <th>Ticket</th>\n",
              "      <th>Fare</th>\n",
              "      <th>Cabin</th>\n",
              "      <th>Embarked</th>\n",
              "    </tr>\n",
              "  </thead>\n",
              "  <tbody>\n",
              "    <tr>\n",
              "      <th>0</th>\n",
              "      <td>1</td>\n",
              "      <td>0</td>\n",
              "      <td>3</td>\n",
              "      <td>Braund, Mr. Owen Harris</td>\n",
              "      <td>male</td>\n",
              "      <td>22.0</td>\n",
              "      <td>1</td>\n",
              "      <td>0</td>\n",
              "      <td>A/5 21171</td>\n",
              "      <td>7.2500</td>\n",
              "      <td>NaN</td>\n",
              "      <td>S</td>\n",
              "    </tr>\n",
              "    <tr>\n",
              "      <th>1</th>\n",
              "      <td>2</td>\n",
              "      <td>1</td>\n",
              "      <td>1</td>\n",
              "      <td>Cumings, Mrs. John Bradley (Florence Briggs Th...</td>\n",
              "      <td>female</td>\n",
              "      <td>38.0</td>\n",
              "      <td>1</td>\n",
              "      <td>0</td>\n",
              "      <td>PC 17599</td>\n",
              "      <td>71.2833</td>\n",
              "      <td>C85</td>\n",
              "      <td>C</td>\n",
              "    </tr>\n",
              "    <tr>\n",
              "      <th>2</th>\n",
              "      <td>3</td>\n",
              "      <td>1</td>\n",
              "      <td>3</td>\n",
              "      <td>Heikkinen, Miss. Laina</td>\n",
              "      <td>female</td>\n",
              "      <td>26.0</td>\n",
              "      <td>0</td>\n",
              "      <td>0</td>\n",
              "      <td>STON/O2. 3101282</td>\n",
              "      <td>7.9250</td>\n",
              "      <td>NaN</td>\n",
              "      <td>S</td>\n",
              "    </tr>\n",
              "    <tr>\n",
              "      <th>3</th>\n",
              "      <td>4</td>\n",
              "      <td>1</td>\n",
              "      <td>1</td>\n",
              "      <td>Futrelle, Mrs. Jacques Heath (Lily May Peel)</td>\n",
              "      <td>female</td>\n",
              "      <td>35.0</td>\n",
              "      <td>1</td>\n",
              "      <td>0</td>\n",
              "      <td>113803</td>\n",
              "      <td>53.1000</td>\n",
              "      <td>C123</td>\n",
              "      <td>S</td>\n",
              "    </tr>\n",
              "    <tr>\n",
              "      <th>4</th>\n",
              "      <td>5</td>\n",
              "      <td>0</td>\n",
              "      <td>3</td>\n",
              "      <td>Allen, Mr. William Henry</td>\n",
              "      <td>male</td>\n",
              "      <td>35.0</td>\n",
              "      <td>0</td>\n",
              "      <td>0</td>\n",
              "      <td>373450</td>\n",
              "      <td>8.0500</td>\n",
              "      <td>NaN</td>\n",
              "      <td>S</td>\n",
              "    </tr>\n",
              "  </tbody>\n",
              "</table>\n",
              "</div>\n",
              "    <div class=\"colab-df-buttons\">\n",
              "\n",
              "  <div class=\"colab-df-container\">\n",
              "    <button class=\"colab-df-convert\" onclick=\"convertToInteractive('df-49698262-6ccc-4c6b-ada9-8aafd06561fb')\"\n",
              "            title=\"Convert this dataframe to an interactive table.\"\n",
              "            style=\"display:none;\">\n",
              "\n",
              "  <svg xmlns=\"http://www.w3.org/2000/svg\" height=\"24px\" viewBox=\"0 -960 960 960\">\n",
              "    <path d=\"M120-120v-720h720v720H120Zm60-500h600v-160H180v160Zm220 220h160v-160H400v160Zm0 220h160v-160H400v160ZM180-400h160v-160H180v160Zm440 0h160v-160H620v160ZM180-180h160v-160H180v160Zm440 0h160v-160H620v160Z\"/>\n",
              "  </svg>\n",
              "    </button>\n",
              "\n",
              "  <style>\n",
              "    .colab-df-container {\n",
              "      display:flex;\n",
              "      gap: 12px;\n",
              "    }\n",
              "\n",
              "    .colab-df-convert {\n",
              "      background-color: #E8F0FE;\n",
              "      border: none;\n",
              "      border-radius: 50%;\n",
              "      cursor: pointer;\n",
              "      display: none;\n",
              "      fill: #1967D2;\n",
              "      height: 32px;\n",
              "      padding: 0 0 0 0;\n",
              "      width: 32px;\n",
              "    }\n",
              "\n",
              "    .colab-df-convert:hover {\n",
              "      background-color: #E2EBFA;\n",
              "      box-shadow: 0px 1px 2px rgba(60, 64, 67, 0.3), 0px 1px 3px 1px rgba(60, 64, 67, 0.15);\n",
              "      fill: #174EA6;\n",
              "    }\n",
              "\n",
              "    .colab-df-buttons div {\n",
              "      margin-bottom: 4px;\n",
              "    }\n",
              "\n",
              "    [theme=dark] .colab-df-convert {\n",
              "      background-color: #3B4455;\n",
              "      fill: #D2E3FC;\n",
              "    }\n",
              "\n",
              "    [theme=dark] .colab-df-convert:hover {\n",
              "      background-color: #434B5C;\n",
              "      box-shadow: 0px 1px 3px 1px rgba(0, 0, 0, 0.15);\n",
              "      filter: drop-shadow(0px 1px 2px rgba(0, 0, 0, 0.3));\n",
              "      fill: #FFFFFF;\n",
              "    }\n",
              "  </style>\n",
              "\n",
              "    <script>\n",
              "      const buttonEl =\n",
              "        document.querySelector('#df-49698262-6ccc-4c6b-ada9-8aafd06561fb button.colab-df-convert');\n",
              "      buttonEl.style.display =\n",
              "        google.colab.kernel.accessAllowed ? 'block' : 'none';\n",
              "\n",
              "      async function convertToInteractive(key) {\n",
              "        const element = document.querySelector('#df-49698262-6ccc-4c6b-ada9-8aafd06561fb');\n",
              "        const dataTable =\n",
              "          await google.colab.kernel.invokeFunction('convertToInteractive',\n",
              "                                                    [key], {});\n",
              "        if (!dataTable) return;\n",
              "\n",
              "        const docLinkHtml = 'Like what you see? Visit the ' +\n",
              "          '<a target=\"_blank\" href=https://colab.research.google.com/notebooks/data_table.ipynb>data table notebook</a>'\n",
              "          + ' to learn more about interactive tables.';\n",
              "        element.innerHTML = '';\n",
              "        dataTable['output_type'] = 'display_data';\n",
              "        await google.colab.output.renderOutput(dataTable, element);\n",
              "        const docLink = document.createElement('div');\n",
              "        docLink.innerHTML = docLinkHtml;\n",
              "        element.appendChild(docLink);\n",
              "      }\n",
              "    </script>\n",
              "  </div>\n",
              "\n",
              "\n",
              "<div id=\"df-df5b1405-897d-47b0-a479-2c112eb8b642\">\n",
              "  <button class=\"colab-df-quickchart\" onclick=\"quickchart('df-df5b1405-897d-47b0-a479-2c112eb8b642')\"\n",
              "            title=\"Suggest charts\"\n",
              "            style=\"display:none;\">\n",
              "\n",
              "<svg xmlns=\"http://www.w3.org/2000/svg\" height=\"24px\"viewBox=\"0 0 24 24\"\n",
              "     width=\"24px\">\n",
              "    <g>\n",
              "        <path d=\"M19 3H5c-1.1 0-2 .9-2 2v14c0 1.1.9 2 2 2h14c1.1 0 2-.9 2-2V5c0-1.1-.9-2-2-2zM9 17H7v-7h2v7zm4 0h-2V7h2v10zm4 0h-2v-4h2v4z\"/>\n",
              "    </g>\n",
              "</svg>\n",
              "  </button>\n",
              "\n",
              "<style>\n",
              "  .colab-df-quickchart {\n",
              "      --bg-color: #E8F0FE;\n",
              "      --fill-color: #1967D2;\n",
              "      --hover-bg-color: #E2EBFA;\n",
              "      --hover-fill-color: #174EA6;\n",
              "      --disabled-fill-color: #AAA;\n",
              "      --disabled-bg-color: #DDD;\n",
              "  }\n",
              "\n",
              "  [theme=dark] .colab-df-quickchart {\n",
              "      --bg-color: #3B4455;\n",
              "      --fill-color: #D2E3FC;\n",
              "      --hover-bg-color: #434B5C;\n",
              "      --hover-fill-color: #FFFFFF;\n",
              "      --disabled-bg-color: #3B4455;\n",
              "      --disabled-fill-color: #666;\n",
              "  }\n",
              "\n",
              "  .colab-df-quickchart {\n",
              "    background-color: var(--bg-color);\n",
              "    border: none;\n",
              "    border-radius: 50%;\n",
              "    cursor: pointer;\n",
              "    display: none;\n",
              "    fill: var(--fill-color);\n",
              "    height: 32px;\n",
              "    padding: 0;\n",
              "    width: 32px;\n",
              "  }\n",
              "\n",
              "  .colab-df-quickchart:hover {\n",
              "    background-color: var(--hover-bg-color);\n",
              "    box-shadow: 0 1px 2px rgba(60, 64, 67, 0.3), 0 1px 3px 1px rgba(60, 64, 67, 0.15);\n",
              "    fill: var(--button-hover-fill-color);\n",
              "  }\n",
              "\n",
              "  .colab-df-quickchart-complete:disabled,\n",
              "  .colab-df-quickchart-complete:disabled:hover {\n",
              "    background-color: var(--disabled-bg-color);\n",
              "    fill: var(--disabled-fill-color);\n",
              "    box-shadow: none;\n",
              "  }\n",
              "\n",
              "  .colab-df-spinner {\n",
              "    border: 2px solid var(--fill-color);\n",
              "    border-color: transparent;\n",
              "    border-bottom-color: var(--fill-color);\n",
              "    animation:\n",
              "      spin 1s steps(1) infinite;\n",
              "  }\n",
              "\n",
              "  @keyframes spin {\n",
              "    0% {\n",
              "      border-color: transparent;\n",
              "      border-bottom-color: var(--fill-color);\n",
              "      border-left-color: var(--fill-color);\n",
              "    }\n",
              "    20% {\n",
              "      border-color: transparent;\n",
              "      border-left-color: var(--fill-color);\n",
              "      border-top-color: var(--fill-color);\n",
              "    }\n",
              "    30% {\n",
              "      border-color: transparent;\n",
              "      border-left-color: var(--fill-color);\n",
              "      border-top-color: var(--fill-color);\n",
              "      border-right-color: var(--fill-color);\n",
              "    }\n",
              "    40% {\n",
              "      border-color: transparent;\n",
              "      border-right-color: var(--fill-color);\n",
              "      border-top-color: var(--fill-color);\n",
              "    }\n",
              "    60% {\n",
              "      border-color: transparent;\n",
              "      border-right-color: var(--fill-color);\n",
              "    }\n",
              "    80% {\n",
              "      border-color: transparent;\n",
              "      border-right-color: var(--fill-color);\n",
              "      border-bottom-color: var(--fill-color);\n",
              "    }\n",
              "    90% {\n",
              "      border-color: transparent;\n",
              "      border-bottom-color: var(--fill-color);\n",
              "    }\n",
              "  }\n",
              "</style>\n",
              "\n",
              "  <script>\n",
              "    async function quickchart(key) {\n",
              "      const quickchartButtonEl =\n",
              "        document.querySelector('#' + key + ' button');\n",
              "      quickchartButtonEl.disabled = true;  // To prevent multiple clicks.\n",
              "      quickchartButtonEl.classList.add('colab-df-spinner');\n",
              "      try {\n",
              "        const charts = await google.colab.kernel.invokeFunction(\n",
              "            'suggestCharts', [key], {});\n",
              "      } catch (error) {\n",
              "        console.error('Error during call to suggestCharts:', error);\n",
              "      }\n",
              "      quickchartButtonEl.classList.remove('colab-df-spinner');\n",
              "      quickchartButtonEl.classList.add('colab-df-quickchart-complete');\n",
              "    }\n",
              "    (() => {\n",
              "      let quickchartButtonEl =\n",
              "        document.querySelector('#df-df5b1405-897d-47b0-a479-2c112eb8b642 button');\n",
              "      quickchartButtonEl.style.display =\n",
              "        google.colab.kernel.accessAllowed ? 'block' : 'none';\n",
              "    })();\n",
              "  </script>\n",
              "</div>\n",
              "\n",
              "    </div>\n",
              "  </div>\n"
            ],
            "application/vnd.google.colaboratory.intrinsic+json": {
              "type": "dataframe",
              "variable_name": "df",
              "summary": "{\n  \"name\": \"df\",\n  \"rows\": 891,\n  \"fields\": [\n    {\n      \"column\": \"PassengerId\",\n      \"properties\": {\n        \"dtype\": \"number\",\n        \"std\": 257,\n        \"min\": 1,\n        \"max\": 891,\n        \"num_unique_values\": 891,\n        \"samples\": [\n          710,\n          440,\n          841\n        ],\n        \"semantic_type\": \"\",\n        \"description\": \"\"\n      }\n    },\n    {\n      \"column\": \"Survived\",\n      \"properties\": {\n        \"dtype\": \"number\",\n        \"std\": 0,\n        \"min\": 0,\n        \"max\": 1,\n        \"num_unique_values\": 2,\n        \"samples\": [\n          1,\n          0\n        ],\n        \"semantic_type\": \"\",\n        \"description\": \"\"\n      }\n    },\n    {\n      \"column\": \"Pclass\",\n      \"properties\": {\n        \"dtype\": \"number\",\n        \"std\": 0,\n        \"min\": 1,\n        \"max\": 3,\n        \"num_unique_values\": 3,\n        \"samples\": [\n          3,\n          1\n        ],\n        \"semantic_type\": \"\",\n        \"description\": \"\"\n      }\n    },\n    {\n      \"column\": \"Name\",\n      \"properties\": {\n        \"dtype\": \"string\",\n        \"num_unique_values\": 891,\n        \"samples\": [\n          \"Moubarek, Master. Halim Gonios (\\\"William George\\\")\",\n          \"Kvillner, Mr. Johan Henrik Johannesson\"\n        ],\n        \"semantic_type\": \"\",\n        \"description\": \"\"\n      }\n    },\n    {\n      \"column\": \"Sex\",\n      \"properties\": {\n        \"dtype\": \"category\",\n        \"num_unique_values\": 2,\n        \"samples\": [\n          \"female\",\n          \"male\"\n        ],\n        \"semantic_type\": \"\",\n        \"description\": \"\"\n      }\n    },\n    {\n      \"column\": \"Age\",\n      \"properties\": {\n        \"dtype\": \"number\",\n        \"std\": 14.526497332334044,\n        \"min\": 0.42,\n        \"max\": 80.0,\n        \"num_unique_values\": 88,\n        \"samples\": [\n          0.75,\n          22.0\n        ],\n        \"semantic_type\": \"\",\n        \"description\": \"\"\n      }\n    },\n    {\n      \"column\": \"SibSp\",\n      \"properties\": {\n        \"dtype\": \"number\",\n        \"std\": 1,\n        \"min\": 0,\n        \"max\": 8,\n        \"num_unique_values\": 7,\n        \"samples\": [\n          1,\n          0\n        ],\n        \"semantic_type\": \"\",\n        \"description\": \"\"\n      }\n    },\n    {\n      \"column\": \"Parch\",\n      \"properties\": {\n        \"dtype\": \"number\",\n        \"std\": 0,\n        \"min\": 0,\n        \"max\": 6,\n        \"num_unique_values\": 7,\n        \"samples\": [\n          0,\n          1\n        ],\n        \"semantic_type\": \"\",\n        \"description\": \"\"\n      }\n    },\n    {\n      \"column\": \"Ticket\",\n      \"properties\": {\n        \"dtype\": \"string\",\n        \"num_unique_values\": 681,\n        \"samples\": [\n          \"11774\",\n          \"248740\"\n        ],\n        \"semantic_type\": \"\",\n        \"description\": \"\"\n      }\n    },\n    {\n      \"column\": \"Fare\",\n      \"properties\": {\n        \"dtype\": \"number\",\n        \"std\": 49.693428597180905,\n        \"min\": 0.0,\n        \"max\": 512.3292,\n        \"num_unique_values\": 248,\n        \"samples\": [\n          11.2417,\n          51.8625\n        ],\n        \"semantic_type\": \"\",\n        \"description\": \"\"\n      }\n    },\n    {\n      \"column\": \"Cabin\",\n      \"properties\": {\n        \"dtype\": \"category\",\n        \"num_unique_values\": 147,\n        \"samples\": [\n          \"D45\",\n          \"B49\"\n        ],\n        \"semantic_type\": \"\",\n        \"description\": \"\"\n      }\n    },\n    {\n      \"column\": \"Embarked\",\n      \"properties\": {\n        \"dtype\": \"category\",\n        \"num_unique_values\": 3,\n        \"samples\": [\n          \"S\",\n          \"C\"\n        ],\n        \"semantic_type\": \"\",\n        \"description\": \"\"\n      }\n    }\n  ]\n}"
            }
          },
          "metadata": {},
          "execution_count": 5
        }
      ],
      "source": [
        "df.head()"
      ]
    },
    {
      "cell_type": "code",
      "execution_count": 6,
      "metadata": {
        "colab": {
          "base_uri": "https://localhost:8080/"
        },
        "id": "seHFzCZrd3aW",
        "outputId": "7ccf5c4b-948c-4348-96e4-f629aa64973a"
      },
      "outputs": [
        {
          "output_type": "execute_result",
          "data": {
            "text/plain": [
              "(891, 12)"
            ]
          },
          "metadata": {},
          "execution_count": 6
        }
      ],
      "source": [
        "df.shape"
      ]
    },
    {
      "cell_type": "markdown",
      "metadata": {
        "id": "82BfB9JuldcA"
      },
      "source": [
        "The dataset consists of 891 rows and 12 columns. Some columns, such as PassengerId and Name, are not relevant for a machine learning model, while others are crucial. We will focus on the following:\n",
        "\n",
        "Survived: Indicates whether the passenger survived the disaster (1) or not (0).\n",
        "Pclass: Represents the passenger’s travel class: first (1), second (2), or third (3).\n",
        "* Sex: Indicates the passenger’s gender.\n",
        "* Age: Indicates the passenger’s age.\n",
        "\n",
        "The Survived column serves as the target variable—the one we aim to predict. The other columns are relevant because first-class passengers had a higher chance of survival, as their cabins were closer to the upper deck and lifeboats. Additionally, women and children were given priority for lifeboat spaces.\n",
        "\n",
        "To check if the dataset contains any missing values, use the following command:"
      ]
    },
    {
      "cell_type": "code",
      "execution_count": 7,
      "metadata": {
        "colab": {
          "base_uri": "https://localhost:8080/"
        },
        "id": "F5r8OCneeDwP",
        "outputId": "2823fbba-261e-4abc-9a99-cefb5b2451f7"
      },
      "outputs": [
        {
          "output_type": "stream",
          "name": "stdout",
          "text": [
            "<class 'pandas.core.frame.DataFrame'>\n",
            "RangeIndex: 891 entries, 0 to 890\n",
            "Data columns (total 12 columns):\n",
            " #   Column       Non-Null Count  Dtype  \n",
            "---  ------       --------------  -----  \n",
            " 0   PassengerId  891 non-null    int64  \n",
            " 1   Survived     891 non-null    int64  \n",
            " 2   Pclass       891 non-null    int64  \n",
            " 3   Name         891 non-null    object \n",
            " 4   Sex          891 non-null    object \n",
            " 5   Age          714 non-null    float64\n",
            " 6   SibSp        891 non-null    int64  \n",
            " 7   Parch        891 non-null    int64  \n",
            " 8   Ticket       891 non-null    object \n",
            " 9   Fare         891 non-null    float64\n",
            " 10  Cabin        204 non-null    object \n",
            " 11  Embarked     889 non-null    object \n",
            "dtypes: float64(2), int64(5), object(5)\n",
            "memory usage: 83.7+ KB\n"
          ]
        }
      ],
      "source": [
        "df.info()"
      ]
    },
    {
      "cell_type": "markdown",
      "metadata": {
        "id": "kWDWf2L6mFCo"
      },
      "source": [
        "The Cabin column has many missing values, but since we won’t be using it, we can ignore them. However, the Age column also contains some missing values. One approach, known as imputing missing values, would be to fill them with the mean age, but we’ll take a simpler route and remove rows with missing values.\n",
        "\n",
        "\n",
        "\n",
        "As a reminder, machine learning models only work with numerical values, while the Sex column contains \"Male\" and \"Female,\" which data scientists refer to as categorical data.\n",
        "\n",
        "There are several techniques to convert categorical data into numerical data, including Label Encoding and One-Hot Encoding. However, we won’t cover them in detail here. I will write a dedicated article specifically on handling categorical data.\n",
        "\n",
        "\n",
        "The following commands will drop unnecessary columns, remove rows with missing values, and apply one-hot encoding to the Sex and Pclass columns:"
      ]
    },
    {
      "cell_type": "code",
      "execution_count": 8,
      "metadata": {
        "colab": {
          "base_uri": "https://localhost:8080/",
          "height": 206
        },
        "id": "-f_WZJXzlm81",
        "outputId": "dd3ea5b5-dad9-4927-fa60-bb2b51e28d31"
      },
      "outputs": [
        {
          "output_type": "execute_result",
          "data": {
            "text/plain": [
              "   Survived  Age  Sex_female  Sex_male  Pclass_1  Pclass_2  Pclass_3\n",
              "0         0   22           0         1         0         0         1\n",
              "1         1   38           1         0         1         0         0\n",
              "2         1   26           1         0         0         0         1\n",
              "3         1   35           1         0         1         0         0\n",
              "4         0   35           0         1         0         0         1"
            ],
            "text/html": [
              "\n",
              "  <div id=\"df-44d91e47-c74f-493e-9ad0-6444fb87bfbb\" class=\"colab-df-container\">\n",
              "    <div>\n",
              "<style scoped>\n",
              "    .dataframe tbody tr th:only-of-type {\n",
              "        vertical-align: middle;\n",
              "    }\n",
              "\n",
              "    .dataframe tbody tr th {\n",
              "        vertical-align: top;\n",
              "    }\n",
              "\n",
              "    .dataframe thead th {\n",
              "        text-align: right;\n",
              "    }\n",
              "</style>\n",
              "<table border=\"1\" class=\"dataframe\">\n",
              "  <thead>\n",
              "    <tr style=\"text-align: right;\">\n",
              "      <th></th>\n",
              "      <th>Survived</th>\n",
              "      <th>Age</th>\n",
              "      <th>Sex_female</th>\n",
              "      <th>Sex_male</th>\n",
              "      <th>Pclass_1</th>\n",
              "      <th>Pclass_2</th>\n",
              "      <th>Pclass_3</th>\n",
              "    </tr>\n",
              "  </thead>\n",
              "  <tbody>\n",
              "    <tr>\n",
              "      <th>0</th>\n",
              "      <td>0</td>\n",
              "      <td>22</td>\n",
              "      <td>0</td>\n",
              "      <td>1</td>\n",
              "      <td>0</td>\n",
              "      <td>0</td>\n",
              "      <td>1</td>\n",
              "    </tr>\n",
              "    <tr>\n",
              "      <th>1</th>\n",
              "      <td>1</td>\n",
              "      <td>38</td>\n",
              "      <td>1</td>\n",
              "      <td>0</td>\n",
              "      <td>1</td>\n",
              "      <td>0</td>\n",
              "      <td>0</td>\n",
              "    </tr>\n",
              "    <tr>\n",
              "      <th>2</th>\n",
              "      <td>1</td>\n",
              "      <td>26</td>\n",
              "      <td>1</td>\n",
              "      <td>0</td>\n",
              "      <td>0</td>\n",
              "      <td>0</td>\n",
              "      <td>1</td>\n",
              "    </tr>\n",
              "    <tr>\n",
              "      <th>3</th>\n",
              "      <td>1</td>\n",
              "      <td>35</td>\n",
              "      <td>1</td>\n",
              "      <td>0</td>\n",
              "      <td>1</td>\n",
              "      <td>0</td>\n",
              "      <td>0</td>\n",
              "    </tr>\n",
              "    <tr>\n",
              "      <th>4</th>\n",
              "      <td>0</td>\n",
              "      <td>35</td>\n",
              "      <td>0</td>\n",
              "      <td>1</td>\n",
              "      <td>0</td>\n",
              "      <td>0</td>\n",
              "      <td>1</td>\n",
              "    </tr>\n",
              "  </tbody>\n",
              "</table>\n",
              "</div>\n",
              "    <div class=\"colab-df-buttons\">\n",
              "\n",
              "  <div class=\"colab-df-container\">\n",
              "    <button class=\"colab-df-convert\" onclick=\"convertToInteractive('df-44d91e47-c74f-493e-9ad0-6444fb87bfbb')\"\n",
              "            title=\"Convert this dataframe to an interactive table.\"\n",
              "            style=\"display:none;\">\n",
              "\n",
              "  <svg xmlns=\"http://www.w3.org/2000/svg\" height=\"24px\" viewBox=\"0 -960 960 960\">\n",
              "    <path d=\"M120-120v-720h720v720H120Zm60-500h600v-160H180v160Zm220 220h160v-160H400v160Zm0 220h160v-160H400v160ZM180-400h160v-160H180v160Zm440 0h160v-160H620v160ZM180-180h160v-160H180v160Zm440 0h160v-160H620v160Z\"/>\n",
              "  </svg>\n",
              "    </button>\n",
              "\n",
              "  <style>\n",
              "    .colab-df-container {\n",
              "      display:flex;\n",
              "      gap: 12px;\n",
              "    }\n",
              "\n",
              "    .colab-df-convert {\n",
              "      background-color: #E8F0FE;\n",
              "      border: none;\n",
              "      border-radius: 50%;\n",
              "      cursor: pointer;\n",
              "      display: none;\n",
              "      fill: #1967D2;\n",
              "      height: 32px;\n",
              "      padding: 0 0 0 0;\n",
              "      width: 32px;\n",
              "    }\n",
              "\n",
              "    .colab-df-convert:hover {\n",
              "      background-color: #E2EBFA;\n",
              "      box-shadow: 0px 1px 2px rgba(60, 64, 67, 0.3), 0px 1px 3px 1px rgba(60, 64, 67, 0.15);\n",
              "      fill: #174EA6;\n",
              "    }\n",
              "\n",
              "    .colab-df-buttons div {\n",
              "      margin-bottom: 4px;\n",
              "    }\n",
              "\n",
              "    [theme=dark] .colab-df-convert {\n",
              "      background-color: #3B4455;\n",
              "      fill: #D2E3FC;\n",
              "    }\n",
              "\n",
              "    [theme=dark] .colab-df-convert:hover {\n",
              "      background-color: #434B5C;\n",
              "      box-shadow: 0px 1px 3px 1px rgba(0, 0, 0, 0.15);\n",
              "      filter: drop-shadow(0px 1px 2px rgba(0, 0, 0, 0.3));\n",
              "      fill: #FFFFFF;\n",
              "    }\n",
              "  </style>\n",
              "\n",
              "    <script>\n",
              "      const buttonEl =\n",
              "        document.querySelector('#df-44d91e47-c74f-493e-9ad0-6444fb87bfbb button.colab-df-convert');\n",
              "      buttonEl.style.display =\n",
              "        google.colab.kernel.accessAllowed ? 'block' : 'none';\n",
              "\n",
              "      async function convertToInteractive(key) {\n",
              "        const element = document.querySelector('#df-44d91e47-c74f-493e-9ad0-6444fb87bfbb');\n",
              "        const dataTable =\n",
              "          await google.colab.kernel.invokeFunction('convertToInteractive',\n",
              "                                                    [key], {});\n",
              "        if (!dataTable) return;\n",
              "\n",
              "        const docLinkHtml = 'Like what you see? Visit the ' +\n",
              "          '<a target=\"_blank\" href=https://colab.research.google.com/notebooks/data_table.ipynb>data table notebook</a>'\n",
              "          + ' to learn more about interactive tables.';\n",
              "        element.innerHTML = '';\n",
              "        dataTable['output_type'] = 'display_data';\n",
              "        await google.colab.output.renderOutput(dataTable, element);\n",
              "        const docLink = document.createElement('div');\n",
              "        docLink.innerHTML = docLinkHtml;\n",
              "        element.appendChild(docLink);\n",
              "      }\n",
              "    </script>\n",
              "  </div>\n",
              "\n",
              "\n",
              "<div id=\"df-b2a07ef1-0bc0-40f2-b50f-0ae13783f765\">\n",
              "  <button class=\"colab-df-quickchart\" onclick=\"quickchart('df-b2a07ef1-0bc0-40f2-b50f-0ae13783f765')\"\n",
              "            title=\"Suggest charts\"\n",
              "            style=\"display:none;\">\n",
              "\n",
              "<svg xmlns=\"http://www.w3.org/2000/svg\" height=\"24px\"viewBox=\"0 0 24 24\"\n",
              "     width=\"24px\">\n",
              "    <g>\n",
              "        <path d=\"M19 3H5c-1.1 0-2 .9-2 2v14c0 1.1.9 2 2 2h14c1.1 0 2-.9 2-2V5c0-1.1-.9-2-2-2zM9 17H7v-7h2v7zm4 0h-2V7h2v10zm4 0h-2v-4h2v4z\"/>\n",
              "    </g>\n",
              "</svg>\n",
              "  </button>\n",
              "\n",
              "<style>\n",
              "  .colab-df-quickchart {\n",
              "      --bg-color: #E8F0FE;\n",
              "      --fill-color: #1967D2;\n",
              "      --hover-bg-color: #E2EBFA;\n",
              "      --hover-fill-color: #174EA6;\n",
              "      --disabled-fill-color: #AAA;\n",
              "      --disabled-bg-color: #DDD;\n",
              "  }\n",
              "\n",
              "  [theme=dark] .colab-df-quickchart {\n",
              "      --bg-color: #3B4455;\n",
              "      --fill-color: #D2E3FC;\n",
              "      --hover-bg-color: #434B5C;\n",
              "      --hover-fill-color: #FFFFFF;\n",
              "      --disabled-bg-color: #3B4455;\n",
              "      --disabled-fill-color: #666;\n",
              "  }\n",
              "\n",
              "  .colab-df-quickchart {\n",
              "    background-color: var(--bg-color);\n",
              "    border: none;\n",
              "    border-radius: 50%;\n",
              "    cursor: pointer;\n",
              "    display: none;\n",
              "    fill: var(--fill-color);\n",
              "    height: 32px;\n",
              "    padding: 0;\n",
              "    width: 32px;\n",
              "  }\n",
              "\n",
              "  .colab-df-quickchart:hover {\n",
              "    background-color: var(--hover-bg-color);\n",
              "    box-shadow: 0 1px 2px rgba(60, 64, 67, 0.3), 0 1px 3px 1px rgba(60, 64, 67, 0.15);\n",
              "    fill: var(--button-hover-fill-color);\n",
              "  }\n",
              "\n",
              "  .colab-df-quickchart-complete:disabled,\n",
              "  .colab-df-quickchart-complete:disabled:hover {\n",
              "    background-color: var(--disabled-bg-color);\n",
              "    fill: var(--disabled-fill-color);\n",
              "    box-shadow: none;\n",
              "  }\n",
              "\n",
              "  .colab-df-spinner {\n",
              "    border: 2px solid var(--fill-color);\n",
              "    border-color: transparent;\n",
              "    border-bottom-color: var(--fill-color);\n",
              "    animation:\n",
              "      spin 1s steps(1) infinite;\n",
              "  }\n",
              "\n",
              "  @keyframes spin {\n",
              "    0% {\n",
              "      border-color: transparent;\n",
              "      border-bottom-color: var(--fill-color);\n",
              "      border-left-color: var(--fill-color);\n",
              "    }\n",
              "    20% {\n",
              "      border-color: transparent;\n",
              "      border-left-color: var(--fill-color);\n",
              "      border-top-color: var(--fill-color);\n",
              "    }\n",
              "    30% {\n",
              "      border-color: transparent;\n",
              "      border-left-color: var(--fill-color);\n",
              "      border-top-color: var(--fill-color);\n",
              "      border-right-color: var(--fill-color);\n",
              "    }\n",
              "    40% {\n",
              "      border-color: transparent;\n",
              "      border-right-color: var(--fill-color);\n",
              "      border-top-color: var(--fill-color);\n",
              "    }\n",
              "    60% {\n",
              "      border-color: transparent;\n",
              "      border-right-color: var(--fill-color);\n",
              "    }\n",
              "    80% {\n",
              "      border-color: transparent;\n",
              "      border-right-color: var(--fill-color);\n",
              "      border-bottom-color: var(--fill-color);\n",
              "    }\n",
              "    90% {\n",
              "      border-color: transparent;\n",
              "      border-bottom-color: var(--fill-color);\n",
              "    }\n",
              "  }\n",
              "</style>\n",
              "\n",
              "  <script>\n",
              "    async function quickchart(key) {\n",
              "      const quickchartButtonEl =\n",
              "        document.querySelector('#' + key + ' button');\n",
              "      quickchartButtonEl.disabled = true;  // To prevent multiple clicks.\n",
              "      quickchartButtonEl.classList.add('colab-df-spinner');\n",
              "      try {\n",
              "        const charts = await google.colab.kernel.invokeFunction(\n",
              "            'suggestCharts', [key], {});\n",
              "      } catch (error) {\n",
              "        console.error('Error during call to suggestCharts:', error);\n",
              "      }\n",
              "      quickchartButtonEl.classList.remove('colab-df-spinner');\n",
              "      quickchartButtonEl.classList.add('colab-df-quickchart-complete');\n",
              "    }\n",
              "    (() => {\n",
              "      let quickchartButtonEl =\n",
              "        document.querySelector('#df-b2a07ef1-0bc0-40f2-b50f-0ae13783f765 button');\n",
              "      quickchartButtonEl.style.display =\n",
              "        google.colab.kernel.accessAllowed ? 'block' : 'none';\n",
              "    })();\n",
              "  </script>\n",
              "</div>\n",
              "\n",
              "    </div>\n",
              "  </div>\n"
            ],
            "application/vnd.google.colaboratory.intrinsic+json": {
              "type": "dataframe",
              "variable_name": "df",
              "summary": "{\n  \"name\": \"df\",\n  \"rows\": 714,\n  \"fields\": [\n    {\n      \"column\": \"Survived\",\n      \"properties\": {\n        \"dtype\": \"number\",\n        \"std\": 0,\n        \"min\": 0,\n        \"max\": 1,\n        \"num_unique_values\": 2,\n        \"samples\": [\n          1,\n          0\n        ],\n        \"semantic_type\": \"\",\n        \"description\": \"\"\n      }\n    },\n    {\n      \"column\": \"Age\",\n      \"properties\": {\n        \"dtype\": \"number\",\n        \"std\": 14,\n        \"min\": 0,\n        \"max\": 80,\n        \"num_unique_values\": 71,\n        \"samples\": [\n          21,\n          22\n        ],\n        \"semantic_type\": \"\",\n        \"description\": \"\"\n      }\n    },\n    {\n      \"column\": \"Sex_female\",\n      \"properties\": {\n        \"dtype\": \"number\",\n        \"std\": 0,\n        \"min\": 0,\n        \"max\": 1,\n        \"num_unique_values\": 2,\n        \"samples\": [\n          1,\n          0\n        ],\n        \"semantic_type\": \"\",\n        \"description\": \"\"\n      }\n    },\n    {\n      \"column\": \"Sex_male\",\n      \"properties\": {\n        \"dtype\": \"number\",\n        \"std\": 0,\n        \"min\": 0,\n        \"max\": 1,\n        \"num_unique_values\": 2,\n        \"samples\": [\n          0,\n          1\n        ],\n        \"semantic_type\": \"\",\n        \"description\": \"\"\n      }\n    },\n    {\n      \"column\": \"Pclass_1\",\n      \"properties\": {\n        \"dtype\": \"number\",\n        \"std\": 0,\n        \"min\": 0,\n        \"max\": 1,\n        \"num_unique_values\": 2,\n        \"samples\": [\n          1,\n          0\n        ],\n        \"semantic_type\": \"\",\n        \"description\": \"\"\n      }\n    },\n    {\n      \"column\": \"Pclass_2\",\n      \"properties\": {\n        \"dtype\": \"number\",\n        \"std\": 0,\n        \"min\": 0,\n        \"max\": 1,\n        \"num_unique_values\": 2,\n        \"samples\": [\n          1,\n          0\n        ],\n        \"semantic_type\": \"\",\n        \"description\": \"\"\n      }\n    },\n    {\n      \"column\": \"Pclass_3\",\n      \"properties\": {\n        \"dtype\": \"number\",\n        \"std\": 0,\n        \"min\": 0,\n        \"max\": 1,\n        \"num_unique_values\": 2,\n        \"samples\": [\n          0,\n          1\n        ],\n        \"semantic_type\": \"\",\n        \"description\": \"\"\n      }\n    }\n  ]\n}"
            }
          },
          "metadata": {},
          "execution_count": 8
        }
      ],
      "source": [
        "df = df[['Survived', 'Age', 'Sex', 'Pclass']]\n",
        "df = pd.get_dummies(df, columns=['Sex', 'Pclass'])\n",
        "df.dropna(inplace=True)\n",
        "df = df.astype(int)\n",
        "df.head()"
      ]
    },
    {
      "cell_type": "markdown",
      "metadata": {
        "id": "LlqMuLoin2Gn"
      },
      "source": [
        "The next task is to split the dataset for training and testing:"
      ]
    },
    {
      "cell_type": "code",
      "execution_count": 9,
      "metadata": {
        "id": "eU7Zj5Onn1Nk"
      },
      "outputs": [],
      "source": [
        "x = df.drop('Survived', axis=1)\n",
        "y = df['Survived']\n",
        "x_train, x_test, y_train, y_test = train_test_split(x, y, test_size=0.2,stratify=y, random_state=0)"
      ]
    },
    {
      "cell_type": "markdown",
      "metadata": {
        "id": "GQkNB-NCoXe6"
      },
      "source": [
        "Now create a logistic regression model, train it with the data split off for training, and score it with the test data:"
      ]
    },
    {
      "cell_type": "code",
      "execution_count": 10,
      "metadata": {
        "colab": {
          "base_uri": "https://localhost:8080/"
        },
        "id": "0wuangzaoOmc",
        "outputId": "d3709cf6-ce36-4a57-b4ee-f905621c008a"
      },
      "outputs": [
        {
          "output_type": "execute_result",
          "data": {
            "text/plain": [
              "0.8321678321678322"
            ]
          },
          "metadata": {},
          "execution_count": 10
        }
      ],
      "source": [
        "model = LogisticRegression(random_state=0)\n",
        "model.fit(x_train, y_train)\n",
        "model.score(x_test, y_test)"
      ]
    },
    {
      "cell_type": "markdown",
      "metadata": {
        "id": "XDWeOp2mqkyX"
      },
      "source": [
        "Re-evaluate the model using cross-validation to gain more confidence in the score. Remember that this is the accuracy score, calculated by summing the true positives and true negatives, then dividing by the total number of samples:"
      ]
    },
    {
      "cell_type": "code",
      "execution_count": 11,
      "metadata": {
        "colab": {
          "base_uri": "https://localhost:8080/"
        },
        "id": "X7gHLJWfpd0G",
        "outputId": "6563d2ce-1ee7-4013-8d9e-da77e15a0721"
      },
      "outputs": [
        {
          "output_type": "execute_result",
          "data": {
            "text/plain": [
              "0.7843494533635378"
            ]
          },
          "metadata": {},
          "execution_count": 11
        }
      ],
      "source": [
        "cross_val_score(model, x, y, cv=5).mean()"
      ]
    },
    {
      "cell_type": "markdown",
      "metadata": {
        "id": "t6fzNeJxq8W-"
      },
      "source": [
        "Use the following commands to generate a confusion matrix that clearly shows the model's performance during testing:"
      ]
    },
    {
      "cell_type": "code",
      "execution_count": 12,
      "metadata": {
        "colab": {
          "base_uri": "https://localhost:8080/",
          "height": 513
        },
        "id": "hfXkCItsq7uL",
        "outputId": "4bea9b81-9ae0-4947-ef42-384e5cc00f97"
      },
      "outputs": [
        {
          "output_type": "execute_result",
          "data": {
            "text/plain": [
              "<sklearn.metrics._plot.confusion_matrix.ConfusionMatrixDisplay at 0x7d767088ed90>"
            ]
          },
          "metadata": {},
          "execution_count": 12
        },
        {
          "output_type": "display_data",
          "data": {
            "text/plain": [
              "<Figure size 640x480 with 2 Axes>"
            ],
            "image/png": "[encoded data removed]"
          },
          "metadata": {}
        }
      ],
      "source": [
        "cmd.from_estimator(model, x_test, y_test, display_labels=['Perished', 'Survived'],\n",
        "cmap='Blues', xticks_rotation='vertical')"
      ]
    },
    {
      "cell_type": "markdown",
      "metadata": {
        "id": "Ym3GyfltxudT"
      },
      "source": [
        "Now, let's use the trained model to make predictions. First, let's determine if a 30-year-old female traveling in first class is likely to survive the voyage. Since the model was trained with a DataFrame containing specific column names, we'll use the same column names to create the input:"
      ]
    },
    {
      "cell_type": "code",
      "execution_count": 13,
      "metadata": {
        "colab": {
          "base_uri": "https://localhost:8080/"
        },
        "id": "Rba4OgF0x1KX",
        "outputId": "c59e1325-e1ba-4111-a991-2d1fe05383e2"
      },
      "outputs": [
        {
          "output_type": "execute_result",
          "data": {
            "text/plain": [
              "1"
            ]
          },
          "metadata": {},
          "execution_count": 13
        }
      ],
      "source": [
        "female = pd.DataFrame({ 'Age': [30], 'Sex_female': [1], 'Sex_male': [0], 'Pclass_1': [1], 'Pclass_2': [0], 'Pclass_3': [0] })\n",
        "model.predict(female)[0]"
      ]
    },
    {
      "cell_type": "markdown",
      "metadata": {
        "id": "_R5WCkz7yb-Q"
      },
      "source": [
        "The model predicts she will survive, but what are the odds that she we will survive?"
      ]
    },
    {
      "cell_type": "code",
      "execution_count": 14,
      "metadata": {
        "colab": {
          "base_uri": "https://localhost:8080/"
        },
        "id": "ghw3t4NbybLD",
        "outputId": "4e1d4b0f-42e9-44c1-d35a-44642471be70"
      },
      "outputs": [
        {
          "output_type": "stream",
          "name": "stdout",
          "text": [
            "Probability of survival: 91.6%\n"
          ]
        }
      ],
      "source": [
        "probability = model.predict_proba(female)[0][1]\n",
        "print(f'Probability of survival: {probability:.1%}')"
      ]
    },
    {
      "cell_type": "markdown",
      "metadata": {
        "id": "zm2IPXJcrgt7"
      },
      "source": [
        "Now, we will save our model, knowing that we can always improve its performance, but that is not the goal of this article."
      ]
    },
    {
      "cell_type": "code",
      "execution_count": 15,
      "metadata": {
        "colab": {
          "base_uri": "https://localhost:8080/"
        },
        "id": "OQVV1EhSr6dD",
        "outputId": "f5a80f3b-3154-4ab3-96a7-27d4e958b2e6"
      },
      "outputs": [
        {
          "output_type": "stream",
          "name": "stdout",
          "text": [
            "Model saved successfully!\n"
          ]
        }
      ],
      "source": [
        "with open(\"model.pkl\", \"wb\") as file:\n",
        "    pickle.dump(model, file)\n",
        "print(\"Model saved successfully!\")"
      ]
    },
    {
      "cell_type": "markdown",
      "metadata": {
        "id": "R25373wGsTgC"
      },
      "source": [
        "Suppose you want to invoke our previously trained model on the Titanic dataset, which is saved, from an app written in another language, such as C#. You can't directly call a Python function from C#, but you can wrap the Python model in a web service and expose its predict (or predict_proba) method using a REST API. One way to build this web service is by using Flask, a popular Python framework for creating websites and web services.\n",
        "\n",
        "\n",
        "To try it out, ensure that Flask is installed on your computer. Next, create a file called app.py and paste the following code. This code uses Flask to set up a Python web service that listens on port 5000:"
      ]
    },
    {
      "cell_type": "code",
      "execution_count": null,
      "metadata": {
        "id": "qJLnee9DtRyF"
      },
      "outputs": [],
      "source": [
        " # Initialize Flask app\n",
        "app = Flask(__name__)\n",
        "\n",
        "# Load the saved model\n",
        "model = pickle.load(open('/content/model.pkl', 'rb'))\n",
        "\n",
        "@app.route('/predict', methods=['GET'])\n",
        "def predict():\n",
        "    if 'age' in request.args and 'sex' in request.args and 'pclass' in request.args:\n",
        "        age = float(request.args.get('age'))\n",
        "        sex = request.args.get('sex').lower()\n",
        "        pclass = int(request.args.get('pclass'))\n",
        "\n",
        "        # Prepare input data\n",
        "        sex_female = 1 if sex == 'female' else 0\n",
        "        sex_male = 1 if sex == 'male' else 0\n",
        "        pclass_1 = 1 if pclass == 1 else 0\n",
        "        pclass_2 = 1 if pclass == 2 else 0\n",
        "        pclass_3 = 1 if pclass == 3 else 0\n",
        "\n",
        "        input_data = pd.DataFrame({\n",
        "            'Age': [age],\n",
        "            'Sex_female': [sex_female],\n",
        "            'Sex_male': [sex_male],\n",
        "            'Pclass_1': [pclass_1],\n",
        "            'Pclass_2': [pclass_2],\n",
        "            'Pclass_3': [pclass_3]\n",
        "        })\n",
        "\n",
        "        prediction = model.predict(input_data)[0]\n",
        "        probabilities = model.predict_proba(input_data)[0]\n",
        "\n",
        "        if prediction == 1:\n",
        "            result = f\"Survival Prediction: Survived (Probability: {probabilities[1]:.2f})\"\n",
        "        else:\n",
        "            result = f\"Survival Prediction: Not Survived (Probability: {probabilities[0]:.2f})\"\n",
        "\n",
        "        result += f\"\\nProbabilities for all classes: [Not Survived: {probabilities[0]:.2f}, Survived: {probabilities[1]:.2f}]\"\n",
        "        return result\n",
        "\n",
        "    else:\n",
        "        return \"Missing parameters. Please provide age, sex, and pclass.\"\n",
        "\n",
        "if __name__ == '__main__':\n",
        "    app.run(debug=True, port=5000, host='0.0.0.0')\n"
      ]
    },
    {
      "cell_type": "markdown",
      "metadata": {
        "id": "SEdlUC-H6ehq"
      },
      "source": [
        " Upon startup, the service loads the pipeline with the Titanic model from the model.pkl file. The @app.route decorator for the predict function tells Flask to execute this function when the service’s /predict endpoint is called.\n",
        "\n",
        "When the service is running locally and a POST request with JSON data is sent to this endpoint, the request body is expected to contain a JSON payload. This JSON data should include the passenger's age, sex, and pclass. The predict function processes this input, runs it through the model, and returns a JSON response indicating whether the passenger survived or not, along with the probability of survival.\n",
        "\n",
        "\n",
        "Postman is a tool used for testing and interacting with APIs. It allows developers to send various types of HTTP requests (like GET, POST, PUT, DELETE) to web services, view responses, and debug issues. Postman supports different data formats such as JSON and XML, making it useful for testing and developing APIs.\n",
        "\n",
        "Once the application is running, you can test it by sending a request using Postman.\n",
        "\n",
        "\n",
        "\n",
        "Here the output:\n",
        "\n",
        "![Screenshot 2025-02-23 at 20.35.59.png](data:image/png;base64,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)"
      ]
    },
    {
      "cell_type": "markdown",
      "source": [
        "To demonstrate, navigate to the directory containing app.py (ensuring that model.pkl is also present) and start Flask by running:\n",
        "\n",
        "\n",
        "```\n",
        "python app.py\n",
        "```\n",
        "\n",
        "\n",
        "flask run\n",
        "Next, open a separate command prompt and use a curl command to send a request to the URL.\n",
        "\n",
        "\n",
        "\n",
        "```\n",
        "curl -X POST http://127.0.0.1:5000/predict -H \"Content-Type: application/json\" -d '{\"age\": 30, \"sex\": \"male\", \"pclass\": 1}'\n",
        "\n",
        "\n",
        "\n",
        "```\n",
        "Here's the output\n",
        "\n",
        "\n",
        "\n",
        "![Screenshot 2025-02-23 at 20.39.38.png](data:image/png;base64,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)"
      ],
      "metadata": {
        "id": "PC3WLtGl4vy1"
      }
    },
    {
      "cell_type": "markdown",
      "source": [
        "If you have Visual Studio or Visual Studio Code installed and configured to compile and run C# applications, you can use the following C# console app code to call the web service and analyze the sentiment of a text string. However, you're not restricted to using C#—you can invoke the web service (and the model) from any programming language, as most modern languages support sending HTTP requests."
      ],
      "metadata": {
        "id": "p3tiojO67wFi"
      }
    },
    {
      "cell_type": "code",
      "source": [
        "#Code Written in C#\n",
        "using System;\n",
        "using System.Net.Http;\n",
        "using System.Text;\n",
        "using System.Threading.Tasks;\n",
        "using Newtonsoft.Json;\n",
        "\n",
        "class Program\n",
        "{\n",
        "    static async Task Main(string[] args)\n",
        "    {\n",
        "        // Get the input data (age, sex, pclass)\n",
        "        Console.Write(\"Enter age: \");\n",
        "        var age = Console.ReadLine();\n",
        "\n",
        "        Console.Write(\"Enter sex (male/female): \");\n",
        "        var sex = Console.ReadLine();\n",
        "\n",
        "        Console.Write(\"Enter pclass (1, 2, or 3): \");\n",
        "        var pclass = Console.ReadLine();\n",
        "\n",
        "        // Validate and ensure correct types for the input\n",
        "        if (!int.TryParse(age, out int ageParsed))\n",
        "        {\n",
        "            Console.WriteLine(\"Invalid age input.\");\n",
        "            return;\n",
        "        }\n",
        "\n",
        "        if (!int.TryParse(pclass, out int pclassParsed) || (pclassParsed < 1 || pclassParsed > 3))\n",
        "        {\n",
        "            Console.WriteLine(\"Invalid pclass input. Please enter a value between 1 and 3.\");\n",
        "            return;\n",
        "        }\n",
        "\n",
        "        if (sex != \"male\" && sex != \"female\")\n",
        "        {\n",
        "            Console.WriteLine(\"Invalid sex input. Please enter 'male' or 'female'.\");\n",
        "            return;\n",
        "        }\n",
        "\n",
        "        // Prepare the data to send to the Flask app in JSON format\n",
        "        var inputData = new\n",
        "        {\n",
        "            age = ageParsed,\n",
        "            sex = sex,\n",
        "            pclass = pclassParsed\n",
        "        };\n",
        "\n",
        "        // Convert the input data to JSON\n",
        "        string jsonInput = JsonConvert.SerializeObject(inputData);\n",
        "\n",
        "        // Create HttpClient instance to send the POST request\n",
        "        var client = new HttpClient();\n",
        "        var url = \"http://127.0.0.1:5000/predict\";  // Flask app URL\n",
        "\n",
        "        // Send the POST request with JSON data\n",
        "        var response = await client.PostAsync(url,\n",
        "            new StringContent(jsonInput, Encoding.UTF8, \"application/json\"));\n",
        "\n",
        "        // Check if the request was successful\n",
        "        if (response.IsSuccessStatusCode)\n",
        "        {\n",
        "            // Read and display the response from Flask\n",
        "            var responseString = await response.Content.ReadAsStringAsync();\n",
        "            Console.WriteLine(\"Prediction Response: \" + responseString);\n",
        "        }\n",
        "        else\n",
        "        {\n",
        "            Console.WriteLine(\"Error: Unable to get a valid response from the server.\");\n",
        "        }\n",
        "    }\n",
        "}\n"
      ],
      "metadata": {
        "id": "C30vwyia4WO1"
      },
      "execution_count": null,
      "outputs": []
    },
    {
      "cell_type": "markdown",
      "source": [
        "Here's the output:\n",
        "\n",
        "![Screenshot 2025-02-23 at 20.44.03.png](data:image/png;base64,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)"
      ],
      "metadata": {
        "id": "RkFCTYjxVVrn"
      }
    }
  ],
  "metadata": {
    "colab": {
      "provenance": []
    },
    "kernelspec": {
      "display_name": "Python 3",
      "name": "python3"
    },
    "language_info": {
      "name": "python"
    }
  },
  "nbformat": 4,
  "nbformat_minor": 0
}